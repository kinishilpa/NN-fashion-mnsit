{
 "cells": [
  {
   "cell_type": "code",
   "execution_count": null,
   "metadata": {
    "colab": {
     "base_uri": "https://localhost:8080/",
     "height": 63
    },
    "colab_type": "code",
    "executionInfo": {
     "elapsed": 2846,
     "status": "ok",
     "timestamp": 1572586479938,
     "user": {
      "displayName": "Shilpa Kini",
      "photoUrl": "https://lh3.googleusercontent.com/a-/AAuE7mAZBGzWi2Gs9wbzMvVbqwJCEt-t2BO7G6dkqim0Iw=s64",
      "userId": "14219759351062868385"
     },
     "user_tz": -330
    },
    "id": "c109L12RdMme",
    "outputId": "e42670b2-f1e2-4443-d32f-54f092b31222"
   },
   "outputs": [],
   "source": [
    "!pip install tensorflow\n",
    "import tensorflow as tf"
   ]
  },
  {
   "cell_type": "code",
   "execution_count": null,
   "metadata": {
    "colab": {
     "base_uri": "https://localhost:8080/",
     "height": 34
    },
    "colab_type": "code",
    "executionInfo": {
     "elapsed": 3381,
     "status": "ok",
     "timestamp": 1572586639304,
     "user": {
      "displayName": "Shilpa Kini",
      "photoUrl": "https://lh3.googleusercontent.com/a-/AAuE7mAZBGzWi2Gs9wbzMvVbqwJCEt-t2BO7G6dkqim0Iw=s64",
      "userId": "14219759351062868385"
     },
     "user_tz": -330
    },
    "id": "CcWvdn_YdTRG",
    "outputId": "5f750b63-8095-4c1d-90cb-8559069b6b4a"
   },
   "outputs": [],
   "source": [
    "pip --version"
   ]
  },
  {
   "cell_type": "code",
   "execution_count": null,
   "metadata": {
    "colab": {
     "base_uri": "https://localhost:8080/",
     "height": 163
    },
    "colab_type": "code",
    "executionInfo": {
     "elapsed": 3952,
     "status": "error",
     "timestamp": 1572586671954,
     "user": {
      "displayName": "Shilpa Kini",
      "photoUrl": "https://lh3.googleusercontent.com/a-/AAuE7mAZBGzWi2Gs9wbzMvVbqwJCEt-t2BO7G6dkqim0Iw=s64",
      "userId": "14219759351062868385"
     },
     "user_tz": -330
    },
    "id": "BxtB1g1Ed8I0",
    "outputId": "96b5c9bb-7cc5-494f-fbb7-06a2150987f6"
   },
   "outputs": [],
   "source": [
    "tensorflow --version"
   ]
  },
  {
   "cell_type": "code",
   "execution_count": null,
   "metadata": {
    "colab": {
     "base_uri": "https://localhost:8080/",
     "height": 207
    },
    "colab_type": "code",
    "executionInfo": {
     "elapsed": 5335,
     "status": "ok",
     "timestamp": 1572586710098,
     "user": {
      "displayName": "Shilpa Kini",
      "photoUrl": "https://lh3.googleusercontent.com/a-/AAuE7mAZBGzWi2Gs9wbzMvVbqwJCEt-t2BO7G6dkqim0Iw=s64",
      "userId": "14219759351062868385"
     },
     "user_tz": -330
    },
    "id": "vZtB0oiMeD-l",
    "outputId": "32dbebb9-4ab0-4bff-c2ef-8d6761e5d1e3"
   },
   "outputs": [],
   "source": [
    "pip show tensorflow"
   ]
  },
  {
   "cell_type": "code",
   "execution_count": null,
   "metadata": {
    "colab": {},
    "colab_type": "code",
    "id": "Evu-iF1deM7h"
   },
   "outputs": [],
   "source": [
    "from tensorflow import keras"
   ]
  },
  {
   "cell_type": "code",
   "execution_count": null,
   "metadata": {
    "colab": {},
    "colab_type": "code",
    "id": "b0AzwtVxebbY"
   },
   "outputs": [],
   "source": [
    "import numpy as np"
   ]
  },
  {
   "cell_type": "code",
   "execution_count": null,
   "metadata": {
    "colab": {},
    "colab_type": "code",
    "id": "0G8Vhno2esRh"
   },
   "outputs": [],
   "source": [
    "import matplotlib.pyplot as plt"
   ]
  },
  {
   "cell_type": "code",
   "execution_count": null,
   "metadata": {
    "colab": {},
    "colab_type": "code",
    "id": "TnNa99QPexNV"
   },
   "outputs": [],
   "source": [
    "data = keras.datasets.fashion_mnist"
   ]
  },
  {
   "cell_type": "code",
   "execution_count": null,
   "metadata": {
    "colab": {
     "base_uri": "https://localhost:8080/",
     "height": 153
    },
    "colab_type": "code",
    "executionInfo": {
     "elapsed": 2329,
     "status": "ok",
     "timestamp": 1572586893930,
     "user": {
      "displayName": "Shilpa Kini",
      "photoUrl": "https://lh3.googleusercontent.com/a-/AAuE7mAZBGzWi2Gs9wbzMvVbqwJCEt-t2BO7G6dkqim0Iw=s64",
      "userId": "14219759351062868385"
     },
     "user_tz": -330
    },
    "id": "TTZxptIRe2Iy",
    "outputId": "3ebd9220-b106-4931-9e06-87d548e3dfb7"
   },
   "outputs": [],
   "source": [
    "(train_images,train_labels),(test_images,test_labels) = data.load_data()"
   ]
  },
  {
   "cell_type": "code",
   "execution_count": null,
   "metadata": {
    "colab": {
     "base_uri": "https://localhost:8080/",
     "height": 34
    },
    "colab_type": "code",
    "executionInfo": {
     "elapsed": 1333,
     "status": "ok",
     "timestamp": 1572586917715,
     "user": {
      "displayName": "Shilpa Kini",
      "photoUrl": "https://lh3.googleusercontent.com/a-/AAuE7mAZBGzWi2Gs9wbzMvVbqwJCEt-t2BO7G6dkqim0Iw=s64",
      "userId": "14219759351062868385"
     },
     "user_tz": -330
    },
    "id": "d4JCzGGLe6kW",
    "outputId": "312fe45d-79a3-4376-fa64-a8c54a94d4c4"
   },
   "outputs": [],
   "source": [
    "print(train_labels[0])"
   ]
  },
  {
   "cell_type": "code",
   "execution_count": null,
   "metadata": {
    "colab": {},
    "colab_type": "code",
    "id": "v4PmctBufAna"
   },
   "outputs": [],
   "source": [
    "class_names = ['T-shirt/top', 'Trouser', 'Pullover', 'Dress', 'Coat',\n",
    "               'Sandal', 'Shirt', 'Sneaker', 'Bag', 'Ankle boot']"
   ]
  },
  {
   "cell_type": "code",
   "execution_count": null,
   "metadata": {
    "colab": {
     "base_uri": "https://localhost:8080/",
     "height": 282
    },
    "colab_type": "code",
    "executionInfo": {
     "elapsed": 1375,
     "status": "ok",
     "timestamp": 1572587624247,
     "user": {
      "displayName": "Shilpa Kini",
      "photoUrl": "https://lh3.googleusercontent.com/a-/AAuE7mAZBGzWi2Gs9wbzMvVbqwJCEt-t2BO7G6dkqim0Iw=s64",
      "userId": "14219759351062868385"
     },
     "user_tz": -330
    },
    "id": "WU9e_uI1hZv-",
    "outputId": "27a42022-6039-44dd-a225-0ad0c5c8c2e1"
   },
   "outputs": [],
   "source": [
    "plt.imshow(train_images[7])"
   ]
  },
  {
   "cell_type": "code",
   "execution_count": null,
   "metadata": {
    "colab": {},
    "colab_type": "code",
    "id": "__R_yDcohtGD"
   },
   "outputs": [],
   "source": [
    "train_images = train_images/255.0\n",
    "test_images = test_images/255.0"
   ]
  },
  {
   "cell_type": "code",
   "execution_count": null,
   "metadata": {
    "colab": {
     "base_uri": "https://localhost:8080/",
     "height": 1000
    },
    "colab_type": "code",
    "executionInfo": {
     "elapsed": 1299,
     "status": "ok",
     "timestamp": 1572587904999,
     "user": {
      "displayName": "Shilpa Kini",
      "photoUrl": "https://lh3.googleusercontent.com/a-/AAuE7mAZBGzWi2Gs9wbzMvVbqwJCEt-t2BO7G6dkqim0Iw=s64",
      "userId": "14219759351062868385"
     },
     "user_tz": -330
    },
    "id": "on3IKhMjiq-e",
    "outputId": "a13ee47d-6219-4d84-dd41-a131c48066e4"
   },
   "outputs": [],
   "source": [
    "print(test_images[7])"
   ]
  },
  {
   "cell_type": "code",
   "execution_count": null,
   "metadata": {
    "colab": {
     "base_uri": "https://localhost:8080/",
     "height": 306
    },
    "colab_type": "code",
    "executionInfo": {
     "elapsed": 1155,
     "status": "error",
     "timestamp": 1572589324968,
     "user": {
      "displayName": "Shilpa Kini",
      "photoUrl": "https://lh3.googleusercontent.com/a-/AAuE7mAZBGzWi2Gs9wbzMvVbqwJCEt-t2BO7G6dkqim0Iw=s64",
      "userId": "14219759351062868385"
     },
     "user_tz": -330
    },
    "id": "ltE3fz2LixqT",
    "outputId": "20ca26dd-7c80-40a4-c08d-66c4c0a0c3cb"
   },
   "outputs": [],
   "source": [
    "model = keras.Sequential([keras.layers.Flatten(input_shape=(28*28)),keras.layers.Dense(128,activation=\"relu\"),keras.layers.Dense(10,softmax)])"
   ]
  },
  {
   "cell_type": "code",
   "execution_count": null,
   "metadata": {
    "colab": {
     "base_uri": "https://localhost:8080/",
     "height": 326
    },
    "colab_type": "code",
    "executionInfo": {
     "elapsed": 1207,
     "status": "error",
     "timestamp": 1572589401689,
     "user": {
      "displayName": "Shilpa Kini",
      "photoUrl": "https://lh3.googleusercontent.com/a-/AAuE7mAZBGzWi2Gs9wbzMvVbqwJCEt-t2BO7G6dkqim0Iw=s64",
      "userId": "14219759351062868385"
     },
     "user_tz": -330
    },
    "id": "ohE747WmoMWu",
    "outputId": "2334acfb-8e21-4036-dc93-7551e8ea3f5f"
   },
   "outputs": [],
   "source": [
    "model = keras.Sequential([keras.layers.Flatten(input_shape=(28*28)),keras.layers.Dense(128,activation=\"relu\"),keras.layers.Dense(10,activation=\"softmax\")])"
   ]
  },
  {
   "cell_type": "code",
   "execution_count": null,
   "metadata": {
    "colab": {
     "base_uri": "https://localhost:8080/",
     "height": 88
    },
    "colab_type": "code",
    "executionInfo": {
     "elapsed": 1162,
     "status": "ok",
     "timestamp": 1572589524711,
     "user": {
      "displayName": "Shilpa Kini",
      "photoUrl": "https://lh3.googleusercontent.com/a-/AAuE7mAZBGzWi2Gs9wbzMvVbqwJCEt-t2BO7G6dkqim0Iw=s64",
      "userId": "14219759351062868385"
     },
     "user_tz": -330
    },
    "id": "-cHahsBYofFV",
    "outputId": "853b02e6-6e48-4276-ed9b-ae1e9c7c5bc5"
   },
   "outputs": [],
   "source": [
    "model = keras.Sequential([keras.layers.Flatten(input_shape=(28,28)),\n",
    "                          keras.layers.Dense(128,activation=\"relu\"),\n",
    "                          keras.layers.Dense(10,activation=\"softmax\")])"
   ]
  },
  {
   "cell_type": "code",
   "execution_count": null,
   "metadata": {
    "colab": {},
    "colab_type": "code",
    "id": "8onrCmxho9IS"
   },
   "outputs": [],
   "source": [
    "model.compile(optimizer=\"adam\",loss =\"sparse_categorical_crossentropy\",metrics=[\"accuracy\"])"
   ]
  },
  {
   "cell_type": "code",
   "execution_count": null,
   "metadata": {
    "colab": {
     "base_uri": "https://localhost:8080/",
     "height": 221
    },
    "colab_type": "code",
    "executionInfo": {
     "elapsed": 23699,
     "status": "ok",
     "timestamp": 1572589835874,
     "user": {
      "displayName": "Shilpa Kini",
      "photoUrl": "https://lh3.googleusercontent.com/a-/AAuE7mAZBGzWi2Gs9wbzMvVbqwJCEt-t2BO7G6dkqim0Iw=s64",
      "userId": "14219759351062868385"
     },
     "user_tz": -330
    },
    "id": "ZUU0A079pg1Q",
    "outputId": "dde56caa-78e5-4c58-c0e3-b093db558c4e"
   },
   "outputs": [],
   "source": [
    "model.fit(train_images,train_labels,epochs=5)"
   ]
  },
  {
   "cell_type": "code",
   "execution_count": null,
   "metadata": {
    "colab": {
     "base_uri": "https://localhost:8080/",
     "height": 34
    },
    "colab_type": "code",
    "executionInfo": {
     "elapsed": 1298,
     "status": "ok",
     "timestamp": 1572589964437,
     "user": {
      "displayName": "Shilpa Kini",
      "photoUrl": "https://lh3.googleusercontent.com/a-/AAuE7mAZBGzWi2Gs9wbzMvVbqwJCEt-t2BO7G6dkqim0Iw=s64",
      "userId": "14219759351062868385"
     },
     "user_tz": -330
    },
    "id": "cd7HGnmwqDlr",
    "outputId": "6eba12cd-96a4-4d6f-ea12-690a4e7d6b64"
   },
   "outputs": [],
   "source": [
    "test_loss,test_acc = model.evaluate(test_images,test_labels)"
   ]
  },
  {
   "cell_type": "code",
   "execution_count": null,
   "metadata": {
    "colab": {
     "base_uri": "https://localhost:8080/",
     "height": 34
    },
    "colab_type": "code",
    "executionInfo": {
     "elapsed": 1438,
     "status": "ok",
     "timestamp": 1572589982627,
     "user": {
      "displayName": "Shilpa Kini",
      "photoUrl": "https://lh3.googleusercontent.com/a-/AAuE7mAZBGzWi2Gs9wbzMvVbqwJCEt-t2BO7G6dkqim0Iw=s64",
      "userId": "14219759351062868385"
     },
     "user_tz": -330
    },
    "id": "aHps9jmHqocX",
    "outputId": "0c2da9a5-71b9-492b-b296-49cd67e04d7c"
   },
   "outputs": [],
   "source": [
    "print(test_acc)"
   ]
  },
  {
   "cell_type": "code",
   "execution_count": null,
   "metadata": {
    "colab": {},
    "colab_type": "code",
    "id": "uRk-kOMaqs22"
   },
   "outputs": [],
   "source": [
    "prediction = model.predict(test_images)"
   ]
  },
  {
   "cell_type": "code",
   "execution_count": 26,
   "metadata": {
    "colab": {
     "base_uri": "https://localhost:8080/",
     "height": 1000
    },
    "colab_type": "code",
    "executionInfo": {
     "elapsed": 2427,
     "status": "ok",
     "timestamp": 1572597527007,
     "user": {
      "displayName": "Shilpa Kini",
      "photoUrl": "https://lh3.googleusercontent.com/a-/AAuE7mAZBGzWi2Gs9wbzMvVbqwJCEt-t2BO7G6dkqim0Iw=s64",
      "userId": "14219759351062868385"
     },
     "user_tz": -330
    },
    "id": "E1ANKDVAF0Lu",
    "outputId": "70d9d2aa-85cf-487a-890d-631cf42798b7"
   },
   "outputs": [
    {
     "data": {
      "image/png": "[encoded data removed]",
      "text/plain": [
       "<Figure size 432x288 with 1 Axes>"
      ]
     },
     "metadata": {
      "tags": []
     },
     "output_type": "display_data"
    },
    {
     "data": {
      "image/png": "[encoded data removed]",
      "text/plain": [
       "<Figure size 432x288 with 1 Axes>"
      ]
     },
     "metadata": {
      "tags": []
     },
     "output_type": "display_data"
    },
    {
     "data": {
      "image/png": "[encoded data removed]",
      "text/plain": [
       "<Figure size 432x288 with 1 Axes>"
      ]
     },
     "metadata": {
      "tags": []
     },
     "output_type": "display_data"
    },
    {
     "data": {
      "image/png": "[encoded data removed]",
      "text/plain": [
       "<Figure size 432x288 with 1 Axes>"
      ]
     },
     "metadata": {
      "tags": []
     },
     "output_type": "display_data"
    },
    {
     "data": {
      "image/png": "[encoded data removed]",
      "text/plain": [
       "<Figure size 432x288 with 1 Axes>"
      ]
     },
     "metadata": {
      "tags": []
     },
     "output_type": "display_data"
    }
   ],
   "source": [
    "for i in range(5):\n",
    "  plt.grid(False)\n",
    "  plt.imshow(test_images[i],cmap = plt.cm.binary)\n",
    "  plt.xlabel(\"Acual : \" + class_names[test_labels[i]])\n",
    "  plt.title(\"Prediction : \" + class_names[np.argmax(prediction[i])])\n",
    "  plt.show()"
   ]
  },
  {
   "cell_type": "code",
   "execution_count": 0,
   "metadata": {
    "colab": {},
    "colab_type": "code",
    "id": "IeO9CgLKGad7"
   },
   "outputs": [],
   "source": []
  }
 ],
 "metadata": {
  "colab": {
   "name": "Untitled0.ipynb",
   "provenance": []
  },
  "kernelspec": {
   "display_name": "Python 3",
   "language": "python",
   "name": "python3"
  },
  "language_info": {
   "codemirror_mode": {
    "name": "ipython",
    "version": 3
   },
   "file_extension": ".py",
   "mimetype": "text/x-python",
   "name": "python",
   "nbconvert_exporter": "python",
   "pygments_lexer": "ipython3",
   "version": "3.7.1"
  }
 },
 "nbformat": 4,
 "nbformat_minor": 1
}
